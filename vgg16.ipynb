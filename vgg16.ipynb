{
 "cells": [
  {
   "cell_type": "code",
   "execution_count": 1,
   "metadata": {
    "_cell_guid": "b1076dfc-b9ad-4769-8c92-a6c4dae69d19",
    "_uuid": "8f2839f25d086af736a60e9eeb907d3b93b6e0e5",
    "colab": {
     "base_uri": "https://localhost:8080/",
     "height": 81
    },
    "colab_type": "code",
    "id": "WYLMQqTwSqRh",
    "outputId": "c196c65f-a6c0-44d5-c0a7-47b32b75be21"
   },
   "outputs": [
    {
     "ename": "ModuleNotFoundError",
     "evalue": "No module named 'keras'",
     "output_type": "error",
     "traceback": [
      "\u001b[1;31m---------------------------------------------------------------------------\u001b[0m",
      "\u001b[1;31mModuleNotFoundError\u001b[0m                       Traceback (most recent call last)",
      "Input \u001b[1;32mIn [1]\u001b[0m, in \u001b[0;36m<cell line: 8>\u001b[1;34m()\u001b[0m\n\u001b[0;32m      6\u001b[0m \u001b[38;5;28;01mfrom\u001b[39;00m \u001b[38;5;21;01mPIL\u001b[39;00m \u001b[38;5;28;01mimport\u001b[39;00m Image\n\u001b[0;32m      7\u001b[0m \u001b[38;5;28;01mimport\u001b[39;00m \u001b[38;5;21;01mnumpy\u001b[39;00m \u001b[38;5;28;01mas\u001b[39;00m \u001b[38;5;21;01mnp\u001b[39;00m\n\u001b[1;32m----> 8\u001b[0m \u001b[38;5;28;01mfrom\u001b[39;00m \u001b[38;5;21;01mkeras\u001b[39;00m \u001b[38;5;28;01mimport\u001b[39;00m layers\n\u001b[0;32m      9\u001b[0m \u001b[38;5;28;01mfrom\u001b[39;00m \u001b[38;5;21;01mtensorflow\u001b[39;00m\u001b[38;5;21;01m.\u001b[39;00m\u001b[38;5;21;01mkeras\u001b[39;00m\u001b[38;5;21;01m.\u001b[39;00m\u001b[38;5;21;01mapplications\u001b[39;00m \u001b[38;5;28;01mimport\u001b[39;00m ResNet50,MobileNet, DenseNet201, InceptionV3, NASNetLarge, InceptionResNetV2, NASNetMobile\n\u001b[0;32m     10\u001b[0m \u001b[38;5;28;01mfrom\u001b[39;00m \u001b[38;5;21;01mkeras\u001b[39;00m\u001b[38;5;21;01m.\u001b[39;00m\u001b[38;5;21;01mcallbacks\u001b[39;00m \u001b[38;5;28;01mimport\u001b[39;00m Callback, ModelCheckpoint, ReduceLROnPlateau, TensorBoard\n",
      "\u001b[1;31mModuleNotFoundError\u001b[0m: No module named 'keras'"
     ]
    }
   ],
   "source": [
    "import json\n",
    "import math\n",
    "import os\n",
    "\n",
    "import cv2\n",
    "from PIL import Image\n",
    "import numpy as np\n",
    "from keras import layers\n",
    "from tensorflow.keras.applications import ResNet50,MobileNet, DenseNet201, InceptionV3, NASNetLarge, InceptionResNetV2, NASNetMobile\n",
    "from keras.callbacks import Callback, ModelCheckpoint, ReduceLROnPlateau, TensorBoard\n",
    "from keras.preprocessing.image import ImageDataGenerator\n",
    "from keras.utils.np_utils import to_categorical\n",
    "from keras.models import Sequential\n",
    "from tensorflow.keras.optimizers import Adam\n",
    "import matplotlib.pyplot as plt\n",
    "import pandas as pd\n",
    "from sklearn.model_selection import train_test_split\n",
    "from sklearn.metrics import cohen_kappa_score, accuracy_score\n",
    "import scipy\n",
    "from tqdm import tqdm\n",
    "import tensorflow as tf\n",
    "from keras import backend as K\n",
    "import gc\n",
    "from functools import partial\n",
    "from sklearn import metrics\n",
    "from collections import Counter\n",
    "import json\n",
    "import itertools\n",
    "\n",
    "\n",
    "%matplotlib inline"
   ]
  },
  {
   "cell_type": "code",
   "execution_count": null,
   "metadata": {
    "colab": {
     "base_uri": "https://localhost:8080/",
     "height": 87
    },
    "colab_type": "code",
    "id": "awOlyPMkSqRr",
    "outputId": "7ccd4558-7119-4e35-a0ee-8a50b13b7495",
    "scrolled": true
   },
   "outputs": [],
   "source": [
    "#Transfer 'jpg' images to an array IMG\n",
    "def Dataset_loader(DIR, RESIZE, sigmaX=10):\n",
    "    IMG = []\n",
    "    read = lambda imname: np.asarray(Image.open(imname).convert(\"RGB\"))\n",
    "    for IMAGE_NAME in tqdm(os.listdir(DIR)):\n",
    "        PATH = os.path.join(DIR,IMAGE_NAME)\n",
    "        _, ftype = os.path.splitext(PATH)\n",
    "        if ftype == \".png\":\n",
    "            img = read(PATH)\n",
    "           \n",
    "            img = cv2.resize(img, (RESIZE,RESIZE))\n",
    "           \n",
    "            IMG.append(np.array(img))\n",
    "    return IMG\n",
    "\n",
    "Mild_train = np.array(Dataset_loader('E:\\\\datasetfolder\\\\diabetic\\\\train\\\\Mild',224))\n",
    "Moderate_train = np.array(Dataset_loader('E:\\\\datasetfolder\\\\diabetic\\\\train\\\\Moderate',224))\n",
    "No_DR_train = np.array(Dataset_loader('E:\\\\datasetfolder\\\\diabetic\\\\train\\\\No_DR',224))\n",
    "Proliferate_DR_train = np.array(Dataset_loader('E:\\\\datasetfolder\\\\diabetic\\\\train\\\\Proliferate_DR',224))\n",
    "Severe_train = np.array(Dataset_loader('E:\\\\datasetfolder\\\\diabetic\\\\train\\\\Severe',224))\n",
    "\n",
    "Mild_test = np.array(Dataset_loader('E:\\\\datasetfolder\\\\diabetic\\\\test\\\\Mild',224))\n",
    "Moderate_test = np.array(Dataset_loader('E:\\\\datasetfolder\\\\diabetic\\\\test\\\\Moderate',224))\n",
    "No_DR_test = np.array(Dataset_loader('E:\\\\datasetfolder\\\\diabetic\\\\test\\\\No_DR',224))\n",
    "Proliferate_DR_test = np.array(Dataset_loader('E:\\\\datasetfolder\\\\diabetic\\\\test\\\\Proliferate_DR',224))\n",
    "Severe_test = np.array(Dataset_loader('E:\\\\datasetfolder\\\\diabetic\\\\test\\\\Severe',224))"
   ]
  },
  {
   "cell_type": "markdown",
   "metadata": {
    "colab_type": "text",
    "id": "6_aYpUdRSqRx"
   },
   "source": [
    "# Create Label"
   ]
  },
  {
   "cell_type": "code",
   "execution_count": null,
   "metadata": {
    "colab": {},
    "colab_type": "code",
    "id": "VvLXqIjJSqR0"
   },
   "outputs": [],
   "source": [
    "#covid detection: covid,normal,pneumonia\n",
    "# Create labels\n",
    "Mild_train_label = np.zeros(len(Mild_train))\n",
    "Moderate_train_label = np.ones(len(Moderate_train))\n",
    "No_DR_train_label = np.zeros(len(No_DR_train))\n",
    "Proliferate_DR_train_label = np.ones(len(Proliferate_DR_train))\n",
    "Severe_train_label = np.zeros(len(Severe_train))\n",
    "\n",
    "Mild_test_label = np.zeros(len(Mild_test))\n",
    "Moderate_test_label = np.ones(len(Moderate_test))\n",
    "No_DR_test_label = np.zeros(len(No_DR_test))\n",
    "Proliferate_DR_test_label = np.ones(len(Proliferate_DR_test))\n",
    "Severe_DR_test_label = np.zeros(len(Severe_test))\n",
    "\n",
    "# Merge data \n",
    "X_train = np.concatenate((Mild_train, Moderate_train, No_DR_train,Proliferate_DR_train,Severe_train))\n",
    "Y_train = np.concatenate((Mild_train_label, Moderate_train_label, Proliferate_DR_train_label,Severe_train_label))\n",
    "X_test = np.concatenate((Mild_test, Moderate_test,No_DR_test,Proliferate_DR_test,Severe_test ))\n",
    "Y_test = np.concatenate((Mild_test_label, Moderate_test_label, No_DR_test_label,Proliferate_DR_test_label,Severe_DR_test_label))\n",
    "\n",
    "# Shuffle train data\n",
    "s = np.arange(X_train.shape[0])\n",
    "np.random.shuffle(s)\n",
    "X_train = X_train[s]\n",
    "Y_train = Y_train[s]\n",
    "\n",
    "# Shuffle test data\n",
    "s = np.arange(X_test.shape[0])\n",
    "np.random.shuffle(s)\n",
    "X_test = X_test[s]\n",
    "Y_test = Y_test[s]\n",
    "\n",
    "# To categorical\n",
    "Y_train = to_categorical(Y_train, num_classes= 5)\n",
    "Y_test = to_categorical(Y_test, num_classes= 5)"
   ]
  },
  {
   "cell_type": "markdown",
   "metadata": {
    "colab_type": "text",
    "id": "pzRYwNNeSqR6"
   },
   "source": [
    "# Train and Evalutation split"
   ]
  },
  {
   "cell_type": "code",
   "execution_count": null,
   "metadata": {
    "colab": {},
    "colab_type": "code",
    "id": "tFPNVKuVSqR7"
   },
   "outputs": [],
   "source": [
    "x_train, x_val, y_train, y_val = train_test_split(\n",
    "    X_train, Y_train, \n",
    "    test_size=0.2, \n",
    "    random_state=11\n",
    ")"
   ]
  },
  {
   "cell_type": "markdown",
   "metadata": {
    "colab_type": "text",
    "id": "1LHMlymaSqSA"
   },
   "source": [
    "# Display Some Images"
   ]
  },
  {
   "cell_type": "code",
   "execution_count": null,
   "metadata": {
    "colab": {
     "base_uri": "https://localhost:8080/",
     "height": 821
    },
    "colab_type": "code",
    "id": "kTV0hz76SqSB",
    "outputId": "7cc02f48-772a-4690-e756-5691e145befd"
   },
   "outputs": [],
   "source": [
    "# # Display first 15 images of moles, and how they are classified\n",
    "w=60\n",
    "h=40\n",
    "fig=plt.figure(figsize=(15, 15))\n",
    "columns = 4\n",
    "rows = 3\n",
    "\n",
    "for i in range(1, columns*rows +1):\n",
    "    ax = fig.add_subplot(rows, columns, i)\n",
    "    if np.argmax(Y_train[i]) == 0:\n",
    "        ax.title.set_text('Mild')\n",
    "    elif np.argmax(Y_train[i]) == 1:\n",
    "        ax.title.set_text('Moderate')\n",
    "    elif np.argmax(Y_train[i]) == 2:\n",
    "        ax.title.set_text('No_DR')\n",
    "    elif np.argmax(Y_train[i]) == 3:\n",
    "        ax.title.set_text('Proliferate_DR')\n",
    "    elif np.argmax(Y_train[i]) == 4:\n",
    "        ax.title.set_text('Severe')\n",
    "    \n",
    "    plt.imshow(x_train[i], interpolation='nearest')\n",
    "plt.show()"
   ]
  },
  {
   "cell_type": "markdown",
   "metadata": {
    "colab_type": "text",
    "id": "zeHBKGkOSqSH"
   },
   "source": [
    "# Data Generator"
   ]
  },
  {
   "cell_type": "code",
   "execution_count": null,
   "metadata": {
    "colab": {},
    "colab_type": "code",
    "id": "GzvWwOX5SqSJ"
   },
   "outputs": [],
   "source": [
    "BATCH_SIZE = 16\n",
    "\n",
    "# Using original generator\n",
    "train_generator = ImageDataGenerator(\n",
    "        zoom_range=2,  # set range for random zoom\n",
    "        rotation_range = 90,\n",
    "        horizontal_flip=True,  # randomly flip images\n",
    "        vertical_flip=True,  # randomly flip images\n",
    "    )"
   ]
  },
  {
   "cell_type": "markdown",
   "metadata": {
    "colab_type": "text",
    "id": "7_J8fUneSqSl"
   },
   "source": [
    "# Vgg 16 ----->"
   ]
  },
  {
   "cell_type": "code",
   "execution_count": null,
   "metadata": {
    "colab": {},
    "colab_type": "code",
    "id": "lc-yx5H12HY7"
   },
   "outputs": [],
   "source": [
    "from keras.preprocessing.image import ImageDataGenerator\n",
    "from keras.layers import Dense, MaxPooling2D, Conv2D, Flatten, Activation, Dropout\n",
    "from keras.models import Model\n",
    "from keras.callbacks import LearningRateScheduler, ReduceLROnPlateau\n",
    "from keras.models import Sequential\n",
    "import keras  \n",
    "from keras.applications.vgg16 import VGG16\n",
    "#from  keras.applications import VGG16, ResNet50\n",
    "from keras import backend as K\n",
    "from keras import optimizers\n",
    "import os\n",
    "import numpy as np\n",
    "import errno\n",
    "from matplotlib import pyplot as plt\n",
    "import time"
   ]
  },
  {
   "cell_type": "code",
   "execution_count": null,
   "metadata": {
    "colab": {},
    "colab_type": "code",
    "id": "2jJnBq7V2Lyg"
   },
   "outputs": [],
   "source": [
    "# test >> yes = 62 | no - 34\n",
    "# training >> yes =  145 | no - 81\n",
    "\n",
    "# NN Parameters\n",
    "image_size = 224     \n",
    "train_batchsize = 10  \n",
    "epochs = 90"
   ]
  },
  {
   "cell_type": "code",
   "execution_count": null,
   "metadata": {
    "colab": {},
    "colab_type": "code",
    "id": "lAZobvc82kf-"
   },
   "outputs": [],
   "source": [
    "# Image Dataset Directory\n",
    "train_dir = 'C:\\\\Users\\\\Meghana\\\\Desktop\\\\jupytercode\\\\covid\\\\Data\\\\train' #'dataset/train'\n",
    "\n",
    "def make_sure_path_exists(path):\n",
    "    try:\n",
    "        os.makedirs(path)\n",
    "    except OSError as exception:\n",
    "        if exception.errno != errno.EXIST:\n",
    "            raise"
   ]
  },
  {
   "cell_type": "code",
   "execution_count": null,
   "metadata": {
    "colab": {},
    "colab_type": "code",
    "id": "yZsuCKqp2r0D"
   },
   "outputs": [],
   "source": [
    "# Train datagenerator\n",
    "BATCH_SIZE = 16\n",
    "\n",
    "# Using original generator\n",
    "train_generator = ImageDataGenerator(\n",
    "        zoom_range=2,  # set range for random zoom\n",
    "        rotation_range = 90,\n",
    "        horizontal_flip=True,  # randomly flip images\n",
    "        vertical_flip=True,  # randomly flip images\n",
    "    )\n"
   ]
  },
  {
   "cell_type": "code",
   "execution_count": null,
   "metadata": {
    "colab": {},
    "colab_type": "code",
    "id": "1ZVUwAWr27Tn"
   },
   "outputs": [],
   "source": [
    "def vgg16_finetuned():\n",
    "\n",
    "  vgg_conv = VGG16(weights='imagenet',\n",
    "            include_top=False,\n",
    "            input_shape=(image_size, image_size, 3))\n",
    "\n",
    "  for layer in vgg_conv.layers[:-2]:\n",
    "    layer.trainable = False\n",
    "  lr=1e-3\n",
    "  model = Sequential()\n",
    "  model.add(vgg_conv)\n",
    "  model.add(Flatten())\n",
    "  model.add(Dense(1024, activation='relu'))\n",
    "  model.add(Dropout(0.4))\n",
    "  model.add(Dense(1024, activation='relu'))\n",
    "  model.add(Dropout(0.4))\n",
    "  model.add(Dense(5, activation= 'softmax'))\n",
    "    \n",
    "  model.compile(\n",
    "        loss='categorical_crossentropy',\n",
    "        optimizer=Adam(lr=lr),\n",
    "        metrics=['accuracy']\n",
    "    )\n",
    "       \n",
    "\n",
    "  return model"
   ]
  },
  {
   "cell_type": "code",
   "execution_count": null,
   "metadata": {
    "colab": {},
    "colab_type": "code",
    "id": "trT_7n6w3C2T"
   },
   "outputs": [],
   "source": [
    "def lr_schedule(epoch):\n",
    "    lr = 1e-3\n",
    "    if epoch > 90:\n",
    "        lr *= 0.5e-3\n",
    "    elif epoch > 80:\n",
    "        lr *= 1e-3\n",
    "    elif epoch > 60:\n",
    "        lr *= 1e-2\n",
    "    elif epoch > 40:\n",
    "        lr *= 1e-1\n",
    "    print('Learning rate: ', lr)\n",
    "    return lr"
   ]
  },
  {
   "cell_type": "code",
   "execution_count": null,
   "metadata": {
    "colab": {
     "base_uri": "https://localhost:8080/",
     "height": 334
    },
    "colab_type": "code",
    "id": "y8rZc_lU44az",
    "outputId": "1f5ab452-54b1-4f0f-b9da-4c9d963f43d2"
   },
   "outputs": [],
   "source": [
    "K.clear_session()\n",
    "gc.collect()\n",
    "\n",
    "resnet = DenseNet201(\n",
    "    weights='imagenet',\n",
    "    include_top=False,\n",
    "    input_shape=(224,224,3)\n",
    ")\n",
    "\n",
    "\n",
    " \n",
    "\n",
    "\n",
    "model = vgg16_finetuned()       #(resnet ,lr = 1e-4)\n",
    "model.summary()"
   ]
  },
  {
   "cell_type": "code",
   "execution_count": null,
   "metadata": {
    "colab": {},
    "colab_type": "code",
    "id": "8CMqg8kR44kK"
   },
   "outputs": [],
   "source": [
    "# Learning Rate Reducer\n",
    "learn_control = ReduceLROnPlateau(monitor='val_acc', patience=5,\n",
    "                                  verbose=1,factor=0.2, min_lr=1e-7)\n",
    "\n",
    "# Checkpoint\n",
    "filepath=\"C:\\\\Users\\\\Meghana\\\\Desktop\\\\jupytercode\\\\covid\\\\Data\\\\vgg.weights.best.hdf5\"\n",
    "checkpoint = ModelCheckpoint(filepath, monitor='val_acc', verbose=1, save_best_only=False, mode='max')"
   ]
  },
  {
   "cell_type": "code",
   "execution_count": null,
   "metadata": {
    "colab": {
     "base_uri": "https://localhost:8080/",
     "height": 1000
    },
    "colab_type": "code",
    "id": "bGuE5o6H44h1",
    "outputId": "d691cd14-8b5d-4c63-fcda-23098b002698"
   },
   "outputs": [],
   "source": [
    "history = model.fit_generator(\n",
    "    train_generator.flow(x_train, y_train, batch_size=BATCH_SIZE),\n",
    "    steps_per_epoch=x_train.shape[0] / BATCH_SIZE,\n",
    "    epochs=15,\n",
    "    validation_data=(x_val, y_val),\n",
    "    callbacks=[learn_control, checkpoint]\n",
    ")"
   ]
  },
  {
   "cell_type": "markdown",
   "metadata": {
    "colab_type": "text",
    "id": "KJktbOrZ8jlQ"
   },
   "source": [
    "**PREDICTION**\n"
   ]
  },
  {
   "cell_type": "code",
   "execution_count": null,
   "metadata": {
    "colab": {},
    "colab_type": "code",
    "id": "m8PxPDmB5dOQ"
   },
   "outputs": [],
   "source": [
    "model.load_weights(\"C:\\\\Users\\\\Meghana\\\\Desktop\\\\jupytercode\\\\covid\\\\Data\\\\vgg.weights.best.hdf5\")"
   ]
  },
  {
   "cell_type": "code",
   "execution_count": null,
   "metadata": {
    "colab": {},
    "colab_type": "code",
    "id": "oaA-vrZZ5daU"
   },
   "outputs": [],
   "source": [
    "Y_val_pred = model.predict(x_val)"
   ]
  },
  {
   "cell_type": "code",
   "execution_count": null,
   "metadata": {
    "colab": {
     "base_uri": "https://localhost:8080/",
     "height": 34
    },
    "colab_type": "code",
    "id": "rzEjuyAB5dgJ",
    "outputId": "2eae220e-7f0f-4ff1-c6fe-3968e2bd768c"
   },
   "outputs": [],
   "source": [
    "accuracy_score(np.argmax(y_val, axis=1), np.argmax(Y_val_pred, axis=1))"
   ]
  },
  {
   "cell_type": "code",
   "execution_count": null,
   "metadata": {
    "colab": {},
    "colab_type": "code",
    "id": "0Hie6tmG5dd8"
   },
   "outputs": [],
   "source": [
    "Y_pred = model.predict(X_test)"
   ]
  },
  {
   "cell_type": "code",
   "execution_count": null,
   "metadata": {
    "colab": {
     "base_uri": "https://localhost:8080/",
     "height": 34
    },
    "colab_type": "code",
    "id": "xo8maYXh5dXs",
    "outputId": "199fbdc1-b1cd-4748-d0bd-b9e1a062cca0"
   },
   "outputs": [],
   "source": [
    "tta_steps = 10\n",
    "predictions = []\n",
    "\n",
    "for i in tqdm(range(tta_steps)):\n",
    "    preds = model.predict_generator(train_generator.flow(X_test, batch_size=BATCH_SIZE, shuffle=False),\n",
    "                                    steps = len(X_test)/BATCH_SIZE)\n",
    "    \n",
    "    predictions.append(preds)\n",
    "    gc.collect()\n",
    "    \n",
    "Y_pred_tta = np.mean(predictions, axis=0)"
   ]
  },
  {
   "cell_type": "code",
   "execution_count": null,
   "metadata": {
    "colab_type": "text",
    "id": "69gvILwy-cbL"
   },
   "outputs": [],
   "source": [
    "**TESTING**"
   ]
  },
  {
   "cell_type": "code",
   "execution_count": null,
   "metadata": {
    "colab": {
     "base_uri": "https://localhost:8080/",
     "height": 594
    },
    "colab_type": "code",
    "id": "7Sbzu8Z-5dRO",
    "outputId": "51b5b68f-2276-4f72-dc6e-014948361fe2"
   },
   "outputs": [],
   "source": [
    "i=0\n",
    "prop_class=[]\n",
    "mis_class=[]\n",
    "\n",
    "for i in range(len(Y_test)):\n",
    "    if(np.argmax(Y_test[i])==np.argmax(Y_pred_tta[i])):\n",
    "        prop_class.append(i)\n",
    "    if(len(prop_class)==8):\n",
    "        break\n",
    "\n",
    "i=0\n",
    "for i in range(len(Y_test)):\n",
    "    if(not np.argmax(Y_test[i])==np.argmax(Y_pred_tta[i])):\n",
    "        mis_class.append(i)\n",
    "    if(len(mis_class)==8):\n",
    "        break\n",
    "\n",
    "# # Display first 8 images of benign\n",
    "w=60\n",
    "h=40\n",
    "fig=plt.figure(figsize=(18, 10))\n",
    "columns = 4\n",
    "rows = 2\n",
    "\n",
    "def Transfername(namecode):\n",
    "    if namecode==0:\n",
    "        return \"Mild\"\n",
    "    elif namecode==1:\n",
    "        return \"Moderate\"\n",
    "    elif namecode==2:\n",
    "        return \"No_DR\"\n",
    "    elif namecode==3:\n",
    "        return \"Proliferate_DR\"\n",
    "    elif namecode==4:\n",
    "        return \"Severe\"\n",
    "    \n",
    "for i in range(len(prop_class)):\n",
    "    ax = fig.add_subplot(rows, columns, i+1)\n",
    "    ax.set_title(\"Predicted result:\"+ Transfername(np.argmax(Y_pred_tta[prop_class[i]]))\n",
    "                       +\"\\n\"+\"Actual result: \"+ Transfername(np.argmax(Y_test[prop_class[i]])))\n",
    "    plt.imshow(X_test[prop_class[i]], interpolation='nearest')\n",
    "plt.show()"
   ]
  },
  {
   "cell_type": "code",
   "execution_count": null,
   "metadata": {},
   "outputs": [],
   "source": []
  }
 ],
 "metadata": {
  "accelerator": "GPU",
  "colab": {
   "name": "Breast_cancer_classification.ipynb",
   "provenance": []
  },
  "kernelspec": {
   "display_name": "Python 3 (ipykernel)",
   "language": "python",
   "name": "python3"
  },
  "language_info": {
   "codemirror_mode": {
    "name": "ipython",
    "version": 3
   },
   "file_extension": ".py",
   "mimetype": "text/x-python",
   "name": "python",
   "nbconvert_exporter": "python",
   "pygments_lexer": "ipython3",
   "version": "3.9.12"
  }
 },
 "nbformat": 4,
 "nbformat_minor": 1
}
